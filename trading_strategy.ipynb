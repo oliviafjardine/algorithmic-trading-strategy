{
 "cells": [
  {
   "cell_type": "code",
   "execution_count": 13,
   "id": "1a468aa7",
   "metadata": {},
   "outputs": [
    {
     "name": "stderr",
     "output_type": "stream",
     "text": [
      "[*********************100%***********************]  503 of 503 completed\n"
     ]
    },
    {
     "name": "stdout",
     "output_type": "stream",
     "text": [
      "Ticker           NXPI                                                  MOH  \\\n",
      "Price            Open       High        Low      Close   Volume       Open   \n",
      "Date                                                                         \n",
      "2015-07-13  84.203494  84.705664  81.620891  82.320351  4316300  70.360001   \n",
      "2015-07-14  82.948055  85.566522  82.427947  84.956741  3746300  69.910004   \n",
      "2015-07-15  84.965701  85.180916  83.172230  83.288803  3589300  72.250000   \n",
      "2015-07-16  83.826856  84.185545  81.271154  82.311371  4979200  73.190002   \n",
      "2015-07-17  82.661090  83.046687  80.410282  81.854027  3537000  72.879997   \n",
      "\n",
      "Ticker                                                ...        PRU  \\\n",
      "Price            High        Low      Close   Volume  ...       Open   \n",
      "Date                                                  ...              \n",
      "2015-07-13  70.690002  69.440002  69.779999   557300  ...  56.979377   \n",
      "2015-07-14  72.120003  69.900002  71.910004   813800  ...  57.128043   \n",
      "2015-07-15  73.690002  72.000000  73.129997  1032200  ...  57.393043   \n",
      "2015-07-16  73.279999  71.410004  72.709999  1171600  ...  57.690342   \n",
      "2015-07-17  73.629997  72.459999  73.430000   615600  ...  57.748524   \n",
      "\n",
      "Ticker                                                      MMC             \\\n",
      "Price            High        Low      Close   Volume       Open       High   \n",
      "Date                                                                         \n",
      "2015-07-13  57.541670  56.979377  57.270218  2470000  48.800464  49.037564   \n",
      "2015-07-14  57.703265  56.882444  57.360718  2030900  48.715784  49.062968   \n",
      "2015-07-15  57.522305  56.998789  57.315483  3343800  49.037563  49.071436   \n",
      "2015-07-16  58.052278  57.554615  57.864845  1926400  49.173055  49.604919   \n",
      "2015-07-17  57.780842  57.037575  57.367199  1609600  49.477891  49.571038   \n",
      "\n",
      "Ticker                                     \n",
      "Price             Low      Close   Volume  \n",
      "Date                                       \n",
      "2015-07-13  48.639572  48.825867  1450300  \n",
      "2015-07-14  48.673445  48.935951  1007800  \n",
      "2015-07-15  48.749655  48.851269  1539900  \n",
      "2015-07-16  49.113780  49.579514  1638000  \n",
      "2015-07-17  49.308532  49.427082  1535800  \n",
      "\n",
      "[5 rows x 2515 columns]\n"
     ]
    }
   ],
   "source": [
    "from statsmodels.regression.rolling import RollingOLS\n",
    "import pandas_datareader.data as web \n",
    "import matplotlib.pyplot as plt \n",
    "import statsmodels.api as sm \n",
    "import pandas as pd \n",
    "import numpy as np \n",
    "import datetime as dt \n",
    "import yfinance as yf \n",
    "import pandas_ta \n",
    "import warnings\n",
    "\n",
    "warnings.filterwarnings('ignore')\n",
    "\n",
    "url = 'https://en.wikipedia.org/wiki/List_of_S%26P_500_companies'\n",
    "sp500 = pd.read_html(url)[0]\n",
    "\n",
    "symbols_list = sp500['Symbol'].str.replace('.', '-', regex=False).tolist()\n",
    "\n",
    "end_date = '2025-07-12'\n",
    "start_date = (pd.to_datetime(end_date) - pd.DateOffset(years=10)).strftime('%Y-%m-%d')\n",
    "\n",
    "df = yf.download(tickers=symbols_list, start=start_date, end=end_date, group_by='ticker')\n",
    "\n",
    "print(df.head())\n"
   ]
  }
 ],
 "metadata": {
  "kernelspec": {
   "display_name": "quant311",
   "language": "python",
   "name": "python3"
  },
  "language_info": {
   "codemirror_mode": {
    "name": "ipython",
    "version": 3
   },
   "file_extension": ".py",
   "mimetype": "text/x-python",
   "name": "python",
   "nbconvert_exporter": "python",
   "pygments_lexer": "ipython3",
   "version": "3.11.13"
  }
 },
 "nbformat": 4,
 "nbformat_minor": 5
}
